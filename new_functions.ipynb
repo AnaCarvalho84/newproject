{
 "cells": [
  {
   "cell_type": "code",
   "execution_count": 3,
   "metadata": {},
   "outputs": [],
   "source": [
    "def sum(x,y):\n",
    "    \"\"\"This function will expect 2 arguments, and it will return\"\"\"\n",
    "    \n",
    "    return x+y\n"
   ]
  }
 ],
 "metadata": {
  "kernelspec": {
   "display_name": "newproject",
   "language": "python",
   "name": "python3"
  },
  "language_info": {
   "codemirror_mode": {
    "name": "ipython",
    "version": 3
   },
   "file_extension": ".py",
   "mimetype": "text/x-python",
   "name": "python",
   "nbconvert_exporter": "python",
   "pygments_lexer": "ipython3",
   "version": "3.8.17"
  },
  "orig_nbformat": 4
 },
 "nbformat": 4,
 "nbformat_minor": 2
}
